{
 "cells": [
  {
   "cell_type": "code",
   "execution_count": null,
   "id": "67e3e1e5-2199-4d80-a9e5-c76e9879c78b",
   "metadata": {},
   "outputs": [],
   "source": []
  }
 ],
 "metadata": {
  "kernelspec": {
   "display_name": "",
   "name": ""
  },
  "language_info": {
   "name": ""
  }
 },
 "nbformat": 4,
 "nbformat_minor": 5
}
